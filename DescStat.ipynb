{
 "cells": [
  {
   "cell_type": "code",
   "execution_count": 217,
   "metadata": {},
   "outputs": [],
   "source": [
    "import pandas as pd\n",
    "import numpy as np\n",
    "\n",
    "import matplotlib.pyplot as plt\n",
    "import seaborn as sns\n",
    "sns.set()\n",
    "%matplotlib inline\n",
    "\n",
    "import os\n",
    "import operator\n",
    "from collections import Counter\n",
    "from CitNet import Utils, GraphCN\n",
    "from jyquickhelper import add_notebook_menu\n",
    "import ipywidgets as widgets"
   ]
  },
  {
   "cell_type": "code",
   "execution_count": 397,
   "metadata": {},
   "outputs": [
    {
     "data": {
      "text/html": [
       "<div id=\"my_id_menu_nb\">run previous cell, wait for 2 seconds</div>\n",
       "<script>\n",
       "function repeat_indent_string(n){\n",
       "    var a = \"\" ;\n",
       "    for ( ; n > 0 ; --n) {\n",
       "        a += \"    \";\n",
       "    }\n",
       "    return a;\n",
       "}\n",
       "var update_menu_string = function(begin, lfirst, llast, sformat, send, keep_item) {\n",
       "    var anchors = document.getElementsByClassName(\"section\");\n",
       "    if (anchors.length == 0) {\n",
       "        anchors = document.getElementsByClassName(\"text_cell_render rendered_html\");\n",
       "    }\n",
       "    var i,t;\n",
       "    var text_menu = begin;\n",
       "    var text_memo = \"<pre>\\nlength:\" + anchors.length + \"\\n\";\n",
       "    var ind = \"\";\n",
       "    var memo_level = 1;\n",
       "    var href;\n",
       "    var tags = [];\n",
       "    var main_item = 0;\n",
       "    for (i = 0; i <= llast; i++) {\n",
       "        tags.push(\"h\" + i);\n",
       "    }\n",
       "\n",
       "    for (i = 0; i < anchors.length; i++) {\n",
       "        text_memo += \"**\" + anchors[i].id + \"--\\n\";\n",
       "\n",
       "        var child = null;\n",
       "        for(t = 0; t < tags.length; t++) {\n",
       "            var r = anchors[i].getElementsByTagName(tags[t]);\n",
       "            if (r.length > 0) {\n",
       "child = r[0];\n",
       "break;\n",
       "            }\n",
       "        }\n",
       "        if (child == null){\n",
       "            text_memo += \"null\\n\";\n",
       "            continue;\n",
       "        }\n",
       "        if (anchors[i].hasAttribute(\"id\")) {\n",
       "            // when converted in RST\n",
       "            href = anchors[i].id;\n",
       "            text_memo += \"#1-\" + href;\n",
       "            // passer à child suivant (le chercher)\n",
       "        }\n",
       "        else if (child.hasAttribute(\"id\")) {\n",
       "            // in a notebook\n",
       "            href = child.id;\n",
       "            text_memo += \"#2-\" + href;\n",
       "        }\n",
       "        else {\n",
       "            text_memo += \"#3-\" + \"*\" + \"\\n\";\n",
       "            continue;\n",
       "        }\n",
       "        var title = child.textContent;\n",
       "        var level = parseInt(child.tagName.substring(1,2));\n",
       "\n",
       "        text_memo += \"--\" + level + \"?\" + lfirst + \"--\" + title + \"\\n\";\n",
       "\n",
       "        if ((level < lfirst) || (level > llast)) {\n",
       "            continue ;\n",
       "        }\n",
       "        if (title.endsWith('¶')) {\n",
       "            title = title.substring(0,title.length-1).replace(\"<\", \"&lt;\").replace(\">\", \"&gt;\").replace(\"&\", \"&amp;\")\n",
       "        }\n",
       "\n",
       "        if (title.length == 0) {\n",
       "            continue;\n",
       "        }\n",
       "\n",
       "        while (level < memo_level) {\n",
       "            text_menu += \"</ul>\\n\";\n",
       "            memo_level -= 1;\n",
       "        }\n",
       "        if (level == lfirst) {\n",
       "            main_item += 1;\n",
       "        }\n",
       "        if (keep_item != -1 && main_item != keep_item + 1) {\n",
       "            // alert(main_item + \" - \" + level + \" - \" + keep_item);\n",
       "            continue;\n",
       "        }\n",
       "        while (level > memo_level) {\n",
       "            text_menu += \"<ul>\\n\";\n",
       "            memo_level += 1;\n",
       "        }\n",
       "        text_menu += repeat_indent_string(level-2) + sformat.replace(\"__HREF__\", href).replace(\"__TITLE__\", title);\n",
       "    }\n",
       "    while (1 < memo_level) {\n",
       "        text_menu += \"</ul>\\n\";\n",
       "        memo_level -= 1;\n",
       "    }\n",
       "    text_menu += send;\n",
       "    //text_menu += \"\\n\" + text_memo;\n",
       "    return text_menu;\n",
       "};\n",
       "var update_menu = function() {\n",
       "    var sbegin = \"\";\n",
       "    var sformat = '<li><a href=\"#__HREF__\">__TITLE__</a></li>';\n",
       "    var send = \"\";\n",
       "    var keep_item = -1;\n",
       "    var text_menu = update_menu_string(sbegin, 2, 4, sformat, send, keep_item);\n",
       "    var menu = document.getElementById(\"my_id_menu_nb\");\n",
       "    menu.innerHTML=text_menu;\n",
       "};\n",
       "window.setTimeout(update_menu,2000);\n",
       "            </script>"
      ],
      "text/plain": [
       "<IPython.core.display.HTML object>"
      ]
     },
     "execution_count": 397,
     "metadata": {},
     "output_type": "execute_result"
    }
   ],
   "source": [
    "add_notebook_menu()"
   ]
  },
  {
   "cell_type": "markdown",
   "metadata": {},
   "source": [
    "# Descriptive statistics"
   ]
  },
  {
   "cell_type": "code",
   "execution_count": 3,
   "metadata": {
    "collapsed": true
   },
   "outputs": [],
   "source": [
    "# Set path to tables\n",
    "path = os.path.join(os.getcwd(), \"Tables\")"
   ]
  },
  {
   "cell_type": "code",
   "execution_count": 258,
   "metadata": {},
   "outputs": [],
   "source": [
    "# Load data\n",
    "attrs=pd.read_csv(path + \"/attrs_nos.csv\", encoding=\"ISO-8859-1\", index_col=0)\n",
    "auth_coresp = pd.read_csv(path + \"/authors.csv\", encoding = \"ISO-8859-1\")\n",
    "citations_db=pd.concat([pd.read_csv(path + \"/cits_edges.csv\"),pd.read_csv(path + \"/refs_edges.csv\")])"
   ]
  },
  {
   "cell_type": "code",
   "execution_count": null,
   "metadata": {
    "collapsed": true
   },
   "outputs": [],
   "source": [
    "# Variables, parameters, preprocessig\n",
    "# Series of Authors ID (potentially multiple authors [id_a1, id_a2], dtype:int)\n",
    "auths_nos=attrs.authors_nos.copy()\n",
    "auths_nos=auths_nos.apply(Utils.str_to_list)\n",
    "\n",
    "# Array of quantiles of interest\n",
    "ptile = np.concatenate([np.linspace(10, 90, 9, dtype=int),np.linspace(91, 99, 9, dtype=int)])\n",
    "width = np.concatenate([np.ones(9, dtype=int)*.8, np.ones(9, dtype=int)*.4])"
   ]
  },
  {
   "cell_type": "code",
   "execution_count": 314,
   "metadata": {
    "collapsed": true
   },
   "outputs": [],
   "source": [
    "# Citations processing \n",
    "# Agregate numbe of cits/refs by article\n",
    "Citations=Counter(citations_db.referred_to)\n",
    "References=Counter(citations_db.referring)\n",
    "# Dataframe (! index)\n",
    "cit_df = pd.DataFrame(data=list(Citations.values()), index=Citations.keys(), columns=[\"in\"])\n",
    "ref_df = pd.DataFrame(data=list(References.values()), index=References.keys(), columns=[\"out\"])\n",
    "# Add var to attrs\n",
    "attrs_df=attrs.merge(cit_df, how='outer', left_index=True, right_index=True)\n",
    "attrs_df=attrs_df.merge(ref_df, how='outer', left_index=True, right_index=True)\n",
    "# Fill na\n",
    "attrs_df[\"in\"]=attrs_df[\"in\"].fillna(0).astype(int)\n",
    "attrs_df[\"out\"]=attrs_df[\"out\"].fillna(0).astype(int)"
   ]
  },
  {
   "cell_type": "code",
   "execution_count": 317,
   "metadata": {
    "collapsed": true
   },
   "outputs": [],
   "source": [
    "# Year Processing\n",
    "attrs_df[\"year\"]=attrs_df.date.str.split(\"-\").str[0].astype(int)"
   ]
  },
  {
   "cell_type": "code",
   "execution_count": 275,
   "metadata": {
    "collapsed": true
   },
   "outputs": [],
   "source": [
    "# Functions\n",
    "def draw_qdist(counter, quantile):\n",
    "    \"\"\"\n",
    "    :param counter: (Counter) Counter of an object\n",
    "    :param quantile: (np.ndarray) sequence of quantiles\n",
    "    :return: (plt.bar) x=quantile\n",
    "                       y=percentile(counter.values(),q)\n",
    "    \"\"\"\n",
    "    if isinstance(counter, Counter) and isinstance(quantile, np.ndarray) is False:\n",
    "        print(\"counter is {0}, only Counter accepted \\n quantile is {1}, only np.ndarray accepted\".\\\n",
    "             format(type(counter),type(quantile)))\n",
    "        \n",
    "    else:\n",
    "        x = np.percentile(list(counter.values()),quantile)\n",
    "        plt.bar(np.arange(len(x)), x, width=width)\n",
    "        plt.xticks(np.arange(len(x)), quantile, rotation='vertical')\n",
    "        plt.annotate('min={0}'.format(min(counter.values())), xy=(0.05, 0.95), xycoords='axes fraction')\n",
    "        plt.annotate('max={0}'.format(max(counter.values())), xy=(0.05, 0.90), xycoords='axes fraction');"
   ]
  },
  {
   "cell_type": "markdown",
   "metadata": {},
   "source": [
    "### Authors"
   ]
  },
  {
   "cell_type": "code",
   "execution_count": 142,
   "metadata": {},
   "outputs": [],
   "source": [
    "# Number of published articles by author\n",
    "pubA_list = []\n",
    "for pubA in auths_nos:  \n",
    "        pubA_list += pubA\n",
    "pubA_list.sort()\n",
    "pub_A = Counter(pubA_list)"
   ]
  },
  {
   "cell_type": "code",
   "execution_count": 211,
   "metadata": {
    "collapsed": true
   },
   "outputs": [],
   "source": [
    "# Name instead of id number\n",
    "pub_Aname={auth_coresp.uniformat.loc[k]:v for k,v in pub_A.items()}"
   ]
  },
  {
   "cell_type": "code",
   "execution_count": 276,
   "metadata": {
    "scrolled": true
   },
   "outputs": [
    {
     "data": {
      "image/png": "[encoded data removed]",
      "text/plain": [
       "<matplotlib.figure.Figure at 0x13b8b8c88>"
      ]
     },
     "metadata": {},
     "output_type": "display_data"
    }
   ],
   "source": [
    "# Plot distribution of Articles by Authors' quantile\n",
    "draw_qdist(pub_A, ptile)\n",
    "plt.title(\"Number of articles published in top-30 journals by author's quantile\")\n",
    "plt.xlabel(\"Quantile of Authors\")\n",
    "plt.ylabel(\"Number of articles\");"
   ]
  },
  {
   "cell_type": "code",
   "execution_count": 370,
   "metadata": {},
   "outputs": [
    {
     "data": {
      "image/png": "[encoded data removed]",
      "text/plain": [
       "<matplotlib.figure.Figure at 0x13d7b6da0>"
      ]
     },
     "metadata": {},
     "output_type": "display_data"
    }
   ],
   "source": [
    "# Hist of publications per author\n",
    "plt.hist(list(pub_A.values()), bins=np.arange(max(pub_A.values())+1))\n",
    "plt.annotate('Total number of authors={0}'.format(len(pub_A)),\n",
    "             xy=(0.5, 0.95), xycoords='axes fraction')\n",
    "plt.annotate('J.E. Stiglitz (#1)', xy=(165, 0), xytext=(125, 2500),\n",
    "            arrowprops=dict(arrowstyle=\"->\",\n",
    "                            connectionstyle=\"angle3,angleA=0,angleB=-90\"))\n",
    "plt.annotate('Ph. Aghion (#25)', xy=(76, 0), xytext=(46, 2500),\n",
    "            arrowprops=dict(arrowstyle=\"->\",\n",
    "                            connectionstyle=\"angle3,angleA=0,angleB=-90\"))\n",
    "plt.annotate('Th. Piketty (#1100-1200)', xy=(24, 0), xytext=(24, 5000),\n",
    "            arrowprops=dict(arrowstyle=\"->\",\n",
    "                            connectionstyle=\"angle3,angleA=0,angleB=-90\"))\n",
    "plt.xlabel(\"Number of articles\")\n",
    "plt.ylabel(\"Number of Authors\")\n",
    "plt.title(\"Distribution of articles published in top 30 journals by author\");"
   ]
  },
  {
   "cell_type": "code",
   "execution_count": 349,
   "metadata": {},
   "outputs": [
    {
     "data": {
      "text/html": [
       "<div>\n",
       "<style scoped>\n",
       "    .dataframe tbody tr th:only-of-type {\n",
       "        vertical-align: middle;\n",
       "    }\n",
       "\n",
       "    .dataframe tbody tr th {\n",
       "        vertical-align: top;\n",
       "    }\n",
       "\n",
       "    .dataframe thead th {\n",
       "        text-align: right;\n",
       "    }\n",
       "</style>\n",
       "<table border=\"1\" class=\"dataframe\">\n",
       "  <thead>\n",
       "    <tr style=\"text-align: right;\">\n",
       "      <th></th>\n",
       "      <th>Authors</th>\n",
       "      <th>Articles</th>\n",
       "    </tr>\n",
       "  </thead>\n",
       "  <tbody>\n",
       "    <tr>\n",
       "      <th>0</th>\n",
       "      <td>Joseph E Stiglitz</td>\n",
       "      <td>165</td>\n",
       "    </tr>\n",
       "    <tr>\n",
       "      <th>1</th>\n",
       "      <td>Martin Feldstein</td>\n",
       "      <td>134</td>\n",
       "    </tr>\n",
       "    <tr>\n",
       "      <th>2</th>\n",
       "      <td>R. Gordon</td>\n",
       "      <td>128</td>\n",
       "    </tr>\n",
       "    <tr>\n",
       "      <th>3</th>\n",
       "      <td>Daron Acemoglu</td>\n",
       "      <td>124</td>\n",
       "    </tr>\n",
       "    <tr>\n",
       "      <th>4</th>\n",
       "      <td>Andrei Shleifer</td>\n",
       "      <td>123</td>\n",
       "    </tr>\n",
       "    <tr>\n",
       "      <th>5</th>\n",
       "      <td>James Heckman</td>\n",
       "      <td>113</td>\n",
       "    </tr>\n",
       "    <tr>\n",
       "      <th>6</th>\n",
       "      <td>Peter C. B. Phillips</td>\n",
       "      <td>109</td>\n",
       "    </tr>\n",
       "    <tr>\n",
       "      <th>7</th>\n",
       "      <td>Jean Tirole</td>\n",
       "      <td>105</td>\n",
       "    </tr>\n",
       "    <tr>\n",
       "      <th>8</th>\n",
       "      <td>John J. Siegfried</td>\n",
       "      <td>100</td>\n",
       "    </tr>\n",
       "    <tr>\n",
       "      <th>9</th>\n",
       "      <td>P. A. Samuelson</td>\n",
       "      <td>98</td>\n",
       "    </tr>\n",
       "    <tr>\n",
       "      <th>10</th>\n",
       "      <td>Allan H. Meltzer</td>\n",
       "      <td>96</td>\n",
       "    </tr>\n",
       "    <tr>\n",
       "      <th>11</th>\n",
       "      <td>The Editors</td>\n",
       "      <td>94</td>\n",
       "    </tr>\n",
       "    <tr>\n",
       "      <th>12</th>\n",
       "      <td>Elhanan Helpman</td>\n",
       "      <td>90</td>\n",
       "    </tr>\n",
       "    <tr>\n",
       "      <th>13</th>\n",
       "      <td>Michael C. Jensen</td>\n",
       "      <td>88</td>\n",
       "    </tr>\n",
       "    <tr>\n",
       "      <th>14</th>\n",
       "      <td>Robert J. Barro</td>\n",
       "      <td>87</td>\n",
       "    </tr>\n",
       "    <tr>\n",
       "      <th>15</th>\n",
       "      <td>Thomas Sargent</td>\n",
       "      <td>87</td>\n",
       "    </tr>\n",
       "    <tr>\n",
       "      <th>16</th>\n",
       "      <td>Stephen J. Turnovsky</td>\n",
       "      <td>82</td>\n",
       "    </tr>\n",
       "    <tr>\n",
       "      <th>17</th>\n",
       "      <td>Timothy J. Besley</td>\n",
       "      <td>81</td>\n",
       "    </tr>\n",
       "    <tr>\n",
       "      <th>18</th>\n",
       "      <td>Eugene F Fama</td>\n",
       "      <td>80</td>\n",
       "    </tr>\n",
       "    <tr>\n",
       "      <th>19</th>\n",
       "      <td>Jean-Jacques M Laffont</td>\n",
       "      <td>80</td>\n",
       "    </tr>\n",
       "    <tr>\n",
       "      <th>20</th>\n",
       "      <td>Lawrence Summers</td>\n",
       "      <td>78</td>\n",
       "    </tr>\n",
       "    <tr>\n",
       "      <th>21</th>\n",
       "      <td>R. E. Hall</td>\n",
       "      <td>78</td>\n",
       "    </tr>\n",
       "    <tr>\n",
       "      <th>22</th>\n",
       "      <td>R. W. Blundell</td>\n",
       "      <td>78</td>\n",
       "    </tr>\n",
       "    <tr>\n",
       "      <th>23</th>\n",
       "      <td>Alberto Alesina</td>\n",
       "      <td>77</td>\n",
       "    </tr>\n",
       "    <tr>\n",
       "      <th>24</th>\n",
       "      <td>Philippe Aghion</td>\n",
       "      <td>75</td>\n",
       "    </tr>\n",
       "  </tbody>\n",
       "</table>\n",
       "</div>"
      ],
      "text/plain": [
       "                   Authors  Articles\n",
       "0        Joseph E Stiglitz       165\n",
       "1         Martin Feldstein       134\n",
       "2                R. Gordon       128\n",
       "3           Daron Acemoglu       124\n",
       "4          Andrei Shleifer       123\n",
       "5            James Heckman       113\n",
       "6     Peter C. B. Phillips       109\n",
       "7              Jean Tirole       105\n",
       "8        John J. Siegfried       100\n",
       "9          P. A. Samuelson        98\n",
       "10        Allan H. Meltzer        96\n",
       "11             The Editors        94\n",
       "12         Elhanan Helpman        90\n",
       "13       Michael C. Jensen        88\n",
       "14         Robert J. Barro        87\n",
       "15          Thomas Sargent        87\n",
       "16    Stephen J. Turnovsky        82\n",
       "17       Timothy J. Besley        81\n",
       "18           Eugene F Fama        80\n",
       "19  Jean-Jacques M Laffont        80\n",
       "20        Lawrence Summers        78\n",
       "21              R. E. Hall        78\n",
       "22          R. W. Blundell        78\n",
       "23         Alberto Alesina        77\n",
       "24         Philippe Aghion        75"
      ]
     },
     "execution_count": 349,
     "metadata": {},
     "output_type": "execute_result"
    }
   ],
   "source": [
    "# Top Authors by number of articles published\n",
    "tsh = 75 # Choose threshold\n",
    "x=sorted({k: v for k, v in pub_Aname.items() if v >= tsh}.items(), key=operator.itemgetter(1), reverse=True)\n",
    "pd.DataFrame(x, columns=[\"Authors\",\"Articles\"])"
   ]
  },
  {
   "cell_type": "code",
   "execution_count": 199,
   "metadata": {
    "collapsed": true
   },
   "outputs": [],
   "source": [
    "def search_auth(auth_name):\n",
    "    resp_auth=auth_coresp.index[auth_coresp.equivalent.str.contains(auth_name)]\n",
    "    for i in resp_auth:\n",
    "        print(auth_coresp.uniformat[i],pub_A[i])"
   ]
  },
  {
   "cell_type": "code",
   "execution_count": 323,
   "metadata": {
    "scrolled": true
   },
   "outputs": [
    {
     "name": "stdout",
     "output_type": "stream",
     "text": [
      "Paul Krugman 55\n"
     ]
    }
   ],
   "source": [
    "search_auth(\"Krugman\")"
   ]
  },
  {
   "cell_type": "markdown",
   "metadata": {},
   "source": [
    "### Co-authors"
   ]
  },
  {
   "cell_type": "code",
   "execution_count": 230,
   "metadata": {},
   "outputs": [],
   "source": [
    "# Get list of edges\n",
    "edges_list = GraphCN.get_edges_list(auths_nos)\n",
    "# Sort list of edges\n",
    "s_edges_list = GraphCN.sort_edges(edges_list)\n",
    "s_edges_list = list(map(lambda x: tuple(auth_coresp.uniformat.loc[[x[0], x[1]]].values),s_edges_list))\n",
    "# Count\n",
    "C_CoA = Counter(s_edges_list)"
   ]
  },
  {
   "cell_type": "code",
   "execution_count": 368,
   "metadata": {},
   "outputs": [
    {
     "data": {
      "image/png": "[encoded data removed]",
      "text/plain": [
       "<matplotlib.figure.Figure at 0x139c99f98>"
      ]
     },
     "metadata": {},
     "output_type": "display_data"
    }
   ],
   "source": [
    "draw_qdist(counter=C_CoA,quantile=ptile)\n",
    "plt.xlabel(\"Quantiles co-authors (couple)\")\n",
    "plt.ylabel(\"Number of articles in common\")\n",
    "plt.title(\"Number of articles published in top-30 journals by co-author's quantile\");"
   ]
  },
  {
   "cell_type": "code",
   "execution_count": 371,
   "metadata": {},
   "outputs": [
    {
     "data": {
      "image/png": "[encoded data removed]",
      "text/plain": [
       "<matplotlib.figure.Figure at 0x13f1fc0f0>"
      ]
     },
     "metadata": {},
     "output_type": "display_data"
    }
   ],
   "source": [
    "# Hist of publications per author\n",
    "plt.hist(list(C_CoA.values()), bins=np.arange(max(C_CoA.values())+1))\n",
    "plt.annotate('Total number of \"couples\"={0}'.format(len(C_CoA)),\n",
    "             xy=(0.5, 0.95), xycoords='axes fraction')\n",
    "plt.annotate('A.H. Meltzer, K. Brunner (#1)', xy=(55, 0), xytext=(40, 10000),\n",
    "            arrowprops=dict(arrowstyle=\"->\",\n",
    "                            connectionstyle=\"angle3,angleA=0,angleB=-90\"))\n",
    "plt.annotate('E. Fama, K.R French (#13)', xy=(30, 0), xytext=(20, 15000),\n",
    "            arrowprops=dict(arrowstyle=\"->\",\n",
    "                            connectionstyle=\"angle3,angleA=0,angleB=-90\"))\n",
    "plt.annotate('Ph. Aghion, P. Howitt (#40-55)', xy=(15, 0), xytext=(0, 10000),\n",
    "            arrowprops=dict(arrowstyle=\"->\",\n",
    "                            connectionstyle=\"angle3,angleA=0,angleB=-90\"))\n",
    "plt.xlabel(\"Number of articles\")\n",
    "plt.ylabel(\"Number of couples (of co-authors)\")\n",
    "plt.title(\"Distribution of articles published in top 30 journals by couple of co-authors\");"
   ]
  },
  {
   "cell_type": "code",
   "execution_count": 257,
   "metadata": {},
   "outputs": [
    {
     "data": {
      "text/html": [
       "<div>\n",
       "<style scoped>\n",
       "    .dataframe tbody tr th:only-of-type {\n",
       "        vertical-align: middle;\n",
       "    }\n",
       "\n",
       "    .dataframe tbody tr th {\n",
       "        vertical-align: top;\n",
       "    }\n",
       "\n",
       "    .dataframe thead th {\n",
       "        text-align: right;\n",
       "    }\n",
       "</style>\n",
       "<table border=\"1\" class=\"dataframe\">\n",
       "  <thead>\n",
       "    <tr style=\"text-align: right;\">\n",
       "      <th></th>\n",
       "      <th>Co-Authors</th>\n",
       "      <th>NbCo</th>\n",
       "    </tr>\n",
       "  </thead>\n",
       "  <tbody>\n",
       "    <tr>\n",
       "      <th>5</th>\n",
       "      <td>(Allan H. Meltzer, K. Brunner)</td>\n",
       "      <td>55</td>\n",
       "    </tr>\n",
       "    <tr>\n",
       "      <th>18</th>\n",
       "      <td>(Clifford JR. Smith, Michael C. Jensen)</td>\n",
       "      <td>48</td>\n",
       "    </tr>\n",
       "    <tr>\n",
       "      <th>17</th>\n",
       "      <td>(Clifford JR. Smith, John Jr Long)</td>\n",
       "      <td>48</td>\n",
       "    </tr>\n",
       "    <tr>\n",
       "      <th>44</th>\n",
       "      <td>(John Jr Long, Michael C. Jensen)</td>\n",
       "      <td>47</td>\n",
       "    </tr>\n",
       "    <tr>\n",
       "      <th>8</th>\n",
       "      <td>(Andrei Shleifer, Robert Vishny)</td>\n",
       "      <td>47</td>\n",
       "    </tr>\n",
       "    <tr>\n",
       "      <th>33</th>\n",
       "      <td>(G. William Schwert, Michael C. Jensen)</td>\n",
       "      <td>38</td>\n",
       "    </tr>\n",
       "    <tr>\n",
       "      <th>27</th>\n",
       "      <td>(Edwin J. Elton, Martin Gruber)</td>\n",
       "      <td>37</td>\n",
       "    </tr>\n",
       "    <tr>\n",
       "      <th>16</th>\n",
       "      <td>(Clifford JR. Smith, Jerold B. Warner)</td>\n",
       "      <td>36</td>\n",
       "    </tr>\n",
       "    <tr>\n",
       "      <th>42</th>\n",
       "      <td>(Jerold B. Warner, Michael C. Jensen)</td>\n",
       "      <td>36</td>\n",
       "    </tr>\n",
       "    <tr>\n",
       "      <th>15</th>\n",
       "      <td>(Clifford JR. Smith, G. William Schwert)</td>\n",
       "      <td>36</td>\n",
       "    </tr>\n",
       "    <tr>\n",
       "      <th>32</th>\n",
       "      <td>(G. William Schwert, John Jr Long)</td>\n",
       "      <td>36</td>\n",
       "    </tr>\n",
       "    <tr>\n",
       "      <th>41</th>\n",
       "      <td>(Jerold B. Warner, John Jr Long)</td>\n",
       "      <td>35</td>\n",
       "    </tr>\n",
       "    <tr>\n",
       "      <th>29</th>\n",
       "      <td>(Eugene F Fama, Kenneth R. French)</td>\n",
       "      <td>30</td>\n",
       "    </tr>\n",
       "    <tr>\n",
       "      <th>28</th>\n",
       "      <td>(Elhanan Helpman, Gene M. Grossman)</td>\n",
       "      <td>29</td>\n",
       "    </tr>\n",
       "    <tr>\n",
       "      <th>49</th>\n",
       "      <td>(M. E. Sushka, Myron B. Slovin)</td>\n",
       "      <td>27</td>\n",
       "    </tr>\n",
       "    <tr>\n",
       "      <th>52</th>\n",
       "      <td>(Michael C. Jensen, Richard S Ruback)</td>\n",
       "      <td>27</td>\n",
       "    </tr>\n",
       "    <tr>\n",
       "      <th>20</th>\n",
       "      <td>(Daron Acemoglu, James A. Robinson)</td>\n",
       "      <td>26</td>\n",
       "    </tr>\n",
       "    <tr>\n",
       "      <th>43</th>\n",
       "      <td>(Jerold B. Warner, Richard S Ruback)</td>\n",
       "      <td>25</td>\n",
       "    </tr>\n",
       "    <tr>\n",
       "      <th>45</th>\n",
       "      <td>(John Jr Long, Richard S Ruback)</td>\n",
       "      <td>25</td>\n",
       "    </tr>\n",
       "    <tr>\n",
       "      <th>19</th>\n",
       "      <td>(Clifford JR. Smith, Richard S Ruback)</td>\n",
       "      <td>25</td>\n",
       "    </tr>\n",
       "    <tr>\n",
       "      <th>24</th>\n",
       "      <td>(David Levine, Drew Fudenberg)</td>\n",
       "      <td>23</td>\n",
       "    </tr>\n",
       "    <tr>\n",
       "      <th>31</th>\n",
       "      <td>(G. William Schwert, Jerold B. Warner)</td>\n",
       "      <td>23</td>\n",
       "    </tr>\n",
       "    <tr>\n",
       "      <th>39</th>\n",
       "      <td>(Jagdish N. Bhagwati, T. N. Srinivasan)</td>\n",
       "      <td>22</td>\n",
       "    </tr>\n",
       "    <tr>\n",
       "      <th>34</th>\n",
       "      <td>(G. William Schwert, Richard S Ruback)</td>\n",
       "      <td>22</td>\n",
       "    </tr>\n",
       "    <tr>\n",
       "      <th>0</th>\n",
       "      <td>(A. Monfort, C. Gourieroux)</td>\n",
       "      <td>21</td>\n",
       "    </tr>\n",
       "    <tr>\n",
       "      <th>14</th>\n",
       "      <td>(Charles Blackorby, David Donaldson)</td>\n",
       "      <td>20</td>\n",
       "    </tr>\n",
       "    <tr>\n",
       "      <th>4</th>\n",
       "      <td>(Aleh Tsyvinski, Mikhail Golosov)</td>\n",
       "      <td>19</td>\n",
       "    </tr>\n",
       "    <tr>\n",
       "      <th>35</th>\n",
       "      <td>(Guido Tabellini, Torsten Persson)</td>\n",
       "      <td>19</td>\n",
       "    </tr>\n",
       "    <tr>\n",
       "      <th>7</th>\n",
       "      <td>(Andrei Shleifer, Rafael Porta)</td>\n",
       "      <td>18</td>\n",
       "    </tr>\n",
       "    <tr>\n",
       "      <th>37</th>\n",
       "      <td>(Harry DeAngelo, Linda DeAngelo)</td>\n",
       "      <td>18</td>\n",
       "    </tr>\n",
       "    <tr>\n",
       "      <th>1</th>\n",
       "      <td>(A. de Janvry, Elisabeth Sadoulet)</td>\n",
       "      <td>18</td>\n",
       "    </tr>\n",
       "    <tr>\n",
       "      <th>51</th>\n",
       "      <td>(Martin S. Eichenbaum, Sergio T Rebelo)</td>\n",
       "      <td>18</td>\n",
       "    </tr>\n",
       "    <tr>\n",
       "      <th>13</th>\n",
       "      <td>(Bram De Rock, Laurens Cherchye)</td>\n",
       "      <td>18</td>\n",
       "    </tr>\n",
       "    <tr>\n",
       "      <th>9</th>\n",
       "      <td>(Andrew Caplin, John V. Leahy)</td>\n",
       "      <td>17</td>\n",
       "    </tr>\n",
       "    <tr>\n",
       "      <th>46</th>\n",
       "      <td>(Kyle Bagwell, Robert W Staiger)</td>\n",
       "      <td>17</td>\n",
       "    </tr>\n",
       "    <tr>\n",
       "      <th>3</th>\n",
       "      <td>(Alan L Gustman, Thomas L. Steinmeier)</td>\n",
       "      <td>16</td>\n",
       "    </tr>\n",
       "    <tr>\n",
       "      <th>12</th>\n",
       "      <td>(Assaf Razin, Efraim Sadka)</td>\n",
       "      <td>16</td>\n",
       "    </tr>\n",
       "    <tr>\n",
       "      <th>21</th>\n",
       "      <td>(Daron Acemoglu, Simon Johnson)</td>\n",
       "      <td>16</td>\n",
       "    </tr>\n",
       "    <tr>\n",
       "      <th>53</th>\n",
       "      <td>(Patrick J. Kehoe, V V Chari)</td>\n",
       "      <td>16</td>\n",
       "    </tr>\n",
       "    <tr>\n",
       "      <th>50</th>\n",
       "      <td>(M. I. Kamien, Nancy L Schwartz)</td>\n",
       "      <td>15</td>\n",
       "    </tr>\n",
       "    <tr>\n",
       "      <th>48</th>\n",
       "      <td>(Lawrence Christiano, Martin S. Eichenbaum)</td>\n",
       "      <td>15</td>\n",
       "    </tr>\n",
       "    <tr>\n",
       "      <th>47</th>\n",
       "      <td>(Lars Peter Hansen, Thomas Sargent)</td>\n",
       "      <td>15</td>\n",
       "    </tr>\n",
       "    <tr>\n",
       "      <th>2</th>\n",
       "      <td>(Abhijit V Banerjee, Esther Duflo)</td>\n",
       "      <td>15</td>\n",
       "    </tr>\n",
       "    <tr>\n",
       "      <th>25</th>\n",
       "      <td>(David Schmeidler, Itzhak Gilboa)</td>\n",
       "      <td>15</td>\n",
       "    </tr>\n",
       "    <tr>\n",
       "      <th>40</th>\n",
       "      <td>(Jean Tirole, Jean-Jacques M Laffont)</td>\n",
       "      <td>15</td>\n",
       "    </tr>\n",
       "    <tr>\n",
       "      <th>6</th>\n",
       "      <td>(Andrei Shleifer, Nicola Gennaioli)</td>\n",
       "      <td>15</td>\n",
       "    </tr>\n",
       "    <tr>\n",
       "      <th>10</th>\n",
       "      <td>(Anjan Thakor, Arnoud W A Boot)</td>\n",
       "      <td>15</td>\n",
       "    </tr>\n",
       "    <tr>\n",
       "      <th>26</th>\n",
       "      <td>(Dennis N. Epple, Richard Romano)</td>\n",
       "      <td>15</td>\n",
       "    </tr>\n",
       "    <tr>\n",
       "      <th>11</th>\n",
       "      <td>(Artur Raviv, Milton Harris)</td>\n",
       "      <td>15</td>\n",
       "    </tr>\n",
       "    <tr>\n",
       "      <th>38</th>\n",
       "      <td>(Hyun Song Shin, Stephen Morris)</td>\n",
       "      <td>15</td>\n",
       "    </tr>\n",
       "    <tr>\n",
       "      <th>36</th>\n",
       "      <td>(H. Cremer, P. M. Pestieau)</td>\n",
       "      <td>15</td>\n",
       "    </tr>\n",
       "    <tr>\n",
       "      <th>30</th>\n",
       "      <td>(Firouz Gahvari, H. Cremer)</td>\n",
       "      <td>15</td>\n",
       "    </tr>\n",
       "    <tr>\n",
       "      <th>22</th>\n",
       "      <td>(David A Wise, Steven F Venti)</td>\n",
       "      <td>15</td>\n",
       "    </tr>\n",
       "    <tr>\n",
       "      <th>23</th>\n",
       "      <td>(David Laibson, James J. Choi)</td>\n",
       "      <td>15</td>\n",
       "    </tr>\n",
       "    <tr>\n",
       "      <th>54</th>\n",
       "      <td>(Peter W Howitt, Philippe Aghion)</td>\n",
       "      <td>15</td>\n",
       "    </tr>\n",
       "  </tbody>\n",
       "</table>\n",
       "</div>"
      ],
      "text/plain": [
       "                                     Co-Authors  NbCo\n",
       "5                (Allan H. Meltzer, K. Brunner)    55\n",
       "18      (Clifford JR. Smith, Michael C. Jensen)    48\n",
       "17           (Clifford JR. Smith, John Jr Long)    48\n",
       "44            (John Jr Long, Michael C. Jensen)    47\n",
       "8              (Andrei Shleifer, Robert Vishny)    47\n",
       "33      (G. William Schwert, Michael C. Jensen)    38\n",
       "27              (Edwin J. Elton, Martin Gruber)    37\n",
       "16       (Clifford JR. Smith, Jerold B. Warner)    36\n",
       "42        (Jerold B. Warner, Michael C. Jensen)    36\n",
       "15     (Clifford JR. Smith, G. William Schwert)    36\n",
       "32           (G. William Schwert, John Jr Long)    36\n",
       "41             (Jerold B. Warner, John Jr Long)    35\n",
       "29           (Eugene F Fama, Kenneth R. French)    30\n",
       "28          (Elhanan Helpman, Gene M. Grossman)    29\n",
       "49              (M. E. Sushka, Myron B. Slovin)    27\n",
       "52        (Michael C. Jensen, Richard S Ruback)    27\n",
       "20          (Daron Acemoglu, James A. Robinson)    26\n",
       "43         (Jerold B. Warner, Richard S Ruback)    25\n",
       "45             (John Jr Long, Richard S Ruback)    25\n",
       "19       (Clifford JR. Smith, Richard S Ruback)    25\n",
       "24               (David Levine, Drew Fudenberg)    23\n",
       "31       (G. William Schwert, Jerold B. Warner)    23\n",
       "39      (Jagdish N. Bhagwati, T. N. Srinivasan)    22\n",
       "34       (G. William Schwert, Richard S Ruback)    22\n",
       "0                   (A. Monfort, C. Gourieroux)    21\n",
       "14         (Charles Blackorby, David Donaldson)    20\n",
       "4             (Aleh Tsyvinski, Mikhail Golosov)    19\n",
       "35           (Guido Tabellini, Torsten Persson)    19\n",
       "7               (Andrei Shleifer, Rafael Porta)    18\n",
       "37             (Harry DeAngelo, Linda DeAngelo)    18\n",
       "1            (A. de Janvry, Elisabeth Sadoulet)    18\n",
       "51      (Martin S. Eichenbaum, Sergio T Rebelo)    18\n",
       "13             (Bram De Rock, Laurens Cherchye)    18\n",
       "9                (Andrew Caplin, John V. Leahy)    17\n",
       "46             (Kyle Bagwell, Robert W Staiger)    17\n",
       "3        (Alan L Gustman, Thomas L. Steinmeier)    16\n",
       "12                  (Assaf Razin, Efraim Sadka)    16\n",
       "21              (Daron Acemoglu, Simon Johnson)    16\n",
       "53                (Patrick J. Kehoe, V V Chari)    16\n",
       "50             (M. I. Kamien, Nancy L Schwartz)    15\n",
       "48  (Lawrence Christiano, Martin S. Eichenbaum)    15\n",
       "47          (Lars Peter Hansen, Thomas Sargent)    15\n",
       "2            (Abhijit V Banerjee, Esther Duflo)    15\n",
       "25            (David Schmeidler, Itzhak Gilboa)    15\n",
       "40        (Jean Tirole, Jean-Jacques M Laffont)    15\n",
       "6           (Andrei Shleifer, Nicola Gennaioli)    15\n",
       "10              (Anjan Thakor, Arnoud W A Boot)    15\n",
       "26            (Dennis N. Epple, Richard Romano)    15\n",
       "11                 (Artur Raviv, Milton Harris)    15\n",
       "38             (Hyun Song Shin, Stephen Morris)    15\n",
       "36                  (H. Cremer, P. M. Pestieau)    15\n",
       "30                  (Firouz Gahvari, H. Cremer)    15\n",
       "22               (David A Wise, Steven F Venti)    15\n",
       "23               (David Laibson, James J. Choi)    15\n",
       "54            (Peter W Howitt, Philippe Aghion)    15"
      ]
     },
     "execution_count": 257,
     "metadata": {},
     "output_type": "execute_result"
    }
   ],
   "source": [
    "# Bromance - Top couples\n",
    "pd.DataFrame(list({k: v for k, v in C_CoA.items() if v>=15}.items()), \n",
    "             columns=[\"Co-Authors\",\"NbCo\"]).sort_values(\"NbCo\", ascending=False)\n",
    "# Comment: missing trouples"
   ]
  },
  {
   "cell_type": "markdown",
   "metadata": {},
   "source": [
    "### Citations"
   ]
  },
  {
   "cell_type": "code",
   "execution_count": 341,
   "metadata": {
    "scrolled": true
   },
   "outputs": [
    {
     "name": "stdout",
     "output_type": "stream",
     "text": [
      "There are 462445 citations.\n",
      "On the 82206 articles in our dataset, 45068 are cited at least once.\n",
      "On the 82206 articles in our dataset, 32888 point to at least one article.\n"
     ]
    }
   ],
   "source": [
    "print(\"There are {0} citations.\".format(attrs_df[\"in\"].sum()))\n",
    "print(\"On the {0} articles in our dataset, {1} are cited at least once.\".\\\n",
    "      format(len(attrs_df), len(attrs_df[\"in\"][(attrs_df[\"in\"]>0)])))\n",
    "print(\"On the {0} articles in our dataset, {1} point to at least one article.\".\\\n",
    "      format(len(attrs_df), len(attrs_df[\"out\"][(attrs_df[\"out\"]>0)])))"
   ]
  },
  {
   "cell_type": "code",
   "execution_count": 373,
   "metadata": {
    "scrolled": false
   },
   "outputs": [
    {
     "data": {
      "image/png": "[encoded data removed]",
      "text/plain": [
       "<matplotlib.figure.Figure at 0x13d9c4ef0>"
      ]
     },
     "metadata": {},
     "output_type": "display_data"
    }
   ],
   "source": [
    "plt.hist(x=attrs_df[\"in\"], bins=np.arange(1,max(attrs_df[\"in\"]+1)))\n",
    "plt.annotate('Fama, French (1993, #1)', xy=(686, 0), xytext=(500, 1000),\n",
    "             bbox=dict(boxstyle=\"round\", fc=\"none\", ec=\"gray\"),\n",
    "            arrowprops=dict(arrowstyle=\"->\",\n",
    "                            connectionstyle=\"angle3,angleA=0,angleB=-90\"))\n",
    "plt.annotate('Hansen (1982, #3)', xy=(582, 0), xytext=(400, 2000),\n",
    "             bbox=dict(boxstyle=\"round\", fc=\"none\", ec=\"gray\"),\n",
    "            arrowprops=dict(arrowstyle=\"->\",\n",
    "                            connectionstyle=\"angle3,angleA=0,angleB=-90\"))\n",
    "plt.annotate('Melitz (2003, #8)', xy=(451, 0), xytext=(350, 1500),\n",
    "            arrowprops=dict(arrowstyle=\"->\",\n",
    "                            connectionstyle=\"angle3,angleA=0,angleB=-90\"))\n",
    "plt.annotate('Black, Scholes (1973, #13)', xy=(413, 0), xytext=(250, 3000),\n",
    "             bbox=dict(boxstyle=\"round\", fc=\"none\", ec=\"gray\"),\n",
    "            arrowprops=dict(arrowstyle=\"->\",\n",
    "                            connectionstyle=\"angle3,angleA=0,angleB=-90\"))\n",
    "plt.annotate('Calvo (1983, #18)', xy=(353, 0), xytext=(150, 2500),\n",
    "            arrowprops=dict(arrowstyle=\"->\",\n",
    "                            connectionstyle=\"angle3,angleA=0,angleB=-90\"))\n",
    "plt.annotate('Kydland, Prescott (1982, #40)', xy=(259, 0), xytext=(50, 4000),\n",
    "            bbox=dict(boxstyle=\"round\", fc=\"none\", ec=\"gray\"), \n",
    "             arrowprops=dict(arrowstyle=\"->\",\n",
    "                            connectionstyle=\"angle3,angleA=0,angleB=-90\"))\n",
    "plt.annotate('Aghion, Howitt (1992, #55)', xy=(216, 0), xytext=(0, 3500),\n",
    "             arrowprops=dict(arrowstyle=\"->\",\n",
    "                            connectionstyle=\"angle3,angleA=0,angleB=-90\"))\n",
    "plt.ylim((0,8000))\n",
    "plt.xlabel(\"Number of citations\")\n",
    "plt.ylabel(\"Number of articles\")\n",
    "plt.title(\"Distribution of citations by article\");"
   ]
  },
  {
   "cell_type": "code",
   "execution_count": 342,
   "metadata": {},
   "outputs": [],
   "source": [
    "# Top cited articles (list by order of citations)\n",
    "attrs_df[[\"title\",\"authors\",\"year\",\"in\"]].sort_values(by=\"in\", ascending=False).\\\n",
    "to_csv(\"../Old/topart.csv\", index=False)"
   ]
  },
  {
   "cell_type": "markdown",
   "metadata": {},
   "source": [
    "#### Time structure of citations"
   ]
  },
  {
   "cell_type": "code",
   "execution_count": 381,
   "metadata": {
    "scrolled": true
   },
   "outputs": [
    {
     "data": {
      "image/png": "[encoded data removed]",
      "text/plain": [
       "<matplotlib.figure.Figure at 0x148b33898>"
      ]
     },
     "metadata": {},
     "output_type": "display_data"
    }
   ],
   "source": [
    "# Time distribution of most cited papers\n",
    "trsh=50\n",
    "x = {k:v for k,v in Citations.items() if v > trsh}\n",
    "plt.hist(attrs_df.year.loc[x.keys()], bins=np.arange(1880,2020))\n",
    "plt.annotate('{0} articles'.format(len(x)), xy=(0.05, 0.95), xycoords='axes fraction')\n",
    "plt.xlabel(\"Year\")\n",
    "plt.ylabel(\"Number of articles\")\n",
    "plt.title(\"Time-distribution of articles with more than {0} citations\".format(trsh));"
   ]
  },
  {
   "cell_type": "code",
   "execution_count": 392,
   "metadata": {},
   "outputs": [
    {
     "data": {
      "image/png": "[encoded data removed]",
      "text/plain": [
       "<matplotlib.figure.Figure at 0x13e2dd908>"
      ]
     },
     "metadata": {},
     "output_type": "display_data"
    }
   ],
   "source": [
    "# Time distribution of citations\n",
    "plt.plot(attrs_df.groupby([\"year\"]).sum()[\"in\"])\n",
    "plt.xlim([1880,2018])\n",
    "plt.xlabel(\"Year\")\n",
    "plt.ylabel(\"Number of citations\")\n",
    "plt.title(\"Time distribution of citations received\");"
   ]
  },
  {
   "cell_type": "code",
   "execution_count": 388,
   "metadata": {},
   "outputs": [
    {
     "data": {
      "image/png": "[encoded data removed]",
      "text/plain": [
       "<matplotlib.figure.Figure at 0x14a037240>"
      ]
     },
     "metadata": {},
     "output_type": "display_data"
    }
   ],
   "source": [
    "# Time distribution of papers in the dataset\n",
    "plt.hist(attrs_df.year, bins=np.arange(1880,2020))\n",
    "plt.xlabel(\"Year\")\n",
    "plt.ylabel(\"Number of articles\")\n",
    "plt.title(\"Time distribution of articles\");"
   ]
  },
  {
   "cell_type": "markdown",
   "metadata": {},
   "source": [
    "### Journals"
   ]
  },
  {
   "cell_type": "code",
   "execution_count": 396,
   "metadata": {},
   "outputs": [
    {
     "data": {
      "image/png": "[encoded data removed]",
      "text/plain": [
       "<matplotlib.figure.Figure at 0x14843ba58>"
      ]
     },
     "metadata": {},
     "output_type": "display_data"
    }
   ],
   "source": [
    "x=attrs_df.groupby([\"journal\"]).sum().sort_values(by=\"in\")[\"in\"]\n",
    "plt.bar(np.arange(len(x.values)), x.values)\n",
    "plt.xticks(np.arange(len(x.values)), x.keys(), rotation='vertical')\n",
    "plt.title(\"Sum of citations per journal over time\");"
   ]
  }
 ],
 "metadata": {
  "kernelspec": {
   "display_name": "Python 3",
   "language": "python",
   "name": "python3"
  },
  "language_info": {
   "codemirror_mode": {
    "name": "ipython",
    "version": 3.0
   },
   "file_extension": ".py",
   "mimetype": "text/x-python",
   "name": "python",
   "nbconvert_exporter": "python",
   "pygments_lexer": "ipython3",
   "version": "3.6.1"
  }
 },
 "nbformat": 4,
 "nbformat_minor": 0
}